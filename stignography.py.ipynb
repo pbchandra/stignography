{
 "cells": [
  {
   "cell_type": "code",
   "execution_count": 14,
   "metadata": {},
   "outputs": [
    {
     "name": "stderr",
     "output_type": "stream",
     "text": [
      "Usage: usage ipykernel_launcher.py -e/-d <target file>\n",
      "\n",
      "ipykernel_launcher.py: error: no such option: -f\n",
      "ERROR:root:Internal Python error in the inspect module.\n",
      "Below is the traceback from this internal error.\n",
      "\n"
     ]
    },
    {
     "name": "stdout",
     "output_type": "stream",
     "text": [
      "Traceback (most recent call last):\n",
      "  File \"c:\\users\\hp\\appdata\\local\\programs\\python\\python38-32\\lib\\optparse.py\", line 1387, in parse_args\n",
      "    stop = self._process_args(largs, rargs, values)\n",
      "  File \"c:\\users\\hp\\appdata\\local\\programs\\python\\python38-32\\lib\\optparse.py\", line 1431, in _process_args\n",
      "    self._process_short_opts(rargs, values)\n",
      "  File \"c:\\users\\hp\\appdata\\local\\programs\\python\\python38-32\\lib\\optparse.py\", line 1513, in _process_short_opts\n",
      "    raise BadOptionError(opt)\n",
      "optparse.BadOptionError: no such option: -f\n",
      "\n",
      "During handling of the above exception, another exception occurred:\n",
      "\n",
      "Traceback (most recent call last):\n",
      "  File \"c:\\users\\hp\\appdata\\local\\programs\\python\\python38-32\\lib\\site-packages\\IPython\\core\\interactiveshell.py\", line 3331, in run_code\n",
      "    exec(code_obj, self.user_global_ns, self.user_ns)\n",
      "  File \"<ipython-input-14-634b960b78c4>\", line 106, in <module>\n",
      "    Main()\n",
      "  File \"<ipython-input-14-634b960b78c4>\", line 94, in Main\n",
      "    (options, args) = parser.parse_args()\n",
      "  File \"c:\\users\\hp\\appdata\\local\\programs\\python\\python38-32\\lib\\optparse.py\", line 1389, in parse_args\n",
      "    self.error(str(err))\n",
      "  File \"c:\\users\\hp\\appdata\\local\\programs\\python\\python38-32\\lib\\optparse.py\", line 1569, in error\n",
      "    self.exit(2, \"%s: error: %s\\n\" % (self.get_prog_name(), msg))\n",
      "  File \"c:\\users\\hp\\appdata\\local\\programs\\python\\python38-32\\lib\\optparse.py\", line 1559, in exit\n",
      "    sys.exit(status)\n",
      "SystemExit: 2\n",
      "\n",
      "During handling of the above exception, another exception occurred:\n",
      "\n",
      "Traceback (most recent call last):\n",
      "  File \"c:\\users\\hp\\appdata\\local\\programs\\python\\python38-32\\lib\\site-packages\\IPython\\core\\ultratb.py\", line 1148, in get_records\n",
      "    return _fixed_getinnerframes(etb, number_of_lines_of_context, tb_offset)\n",
      "  File \"c:\\users\\hp\\appdata\\local\\programs\\python\\python38-32\\lib\\site-packages\\IPython\\core\\ultratb.py\", line 316, in wrapped\n",
      "    return f(*args, **kwargs)\n",
      "  File \"c:\\users\\hp\\appdata\\local\\programs\\python\\python38-32\\lib\\site-packages\\IPython\\core\\ultratb.py\", line 350, in _fixed_getinnerframes\n",
      "    records = fix_frame_records_filenames(inspect.getinnerframes(etb, context))\n",
      "  File \"c:\\users\\hp\\appdata\\local\\programs\\python\\python38-32\\lib\\inspect.py\", line 1503, in getinnerframes\n",
      "    frameinfo = (tb.tb_frame,) + getframeinfo(tb, context)\n",
      "AttributeError: 'tuple' object has no attribute 'tb_frame'\n"
     ]
    },
    {
     "ename": "SystemExit",
     "evalue": "2",
     "output_type": "error",
     "traceback": [
      "An exception has occurred, use %tb to see the full traceback.\n",
      "\u001b[1;31m---------------------------------------------------------------------------\u001b[0m",
      "\nDuring handling of the above exception, another exception occurred:\n",
      "\u001b[1;31mSystemExit\u001b[0m\u001b[1;31m:\u001b[0m 2\n"
     ]
    },
    {
     "name": "stderr",
     "output_type": "stream",
     "text": [
      "c:\\users\\hp\\appdata\\local\\programs\\python\\python38-32\\lib\\site-packages\\IPython\\core\\interactiveshell.py:3339: UserWarning: To exit: use 'exit', 'quit', or Ctrl-D.\n",
      "  warn(\"To exit: use 'exit', 'quit', or Ctrl-D.\", stacklevel=1)\n"
     ]
    }
   ],
   "source": [
    "# Hiding Text in an image\n",
    "\n",
    "from PIL import Image\n",
    "import binascii\n",
    "import optparse\n",
    "\n",
    "\n",
    "def rgb2hex(r, g, b):\n",
    "    return '#{:02x}{:02x}{:02x}'.format(r, g, b)\n",
    "\n",
    "\n",
    "def hex2rgb(hexcode):\n",
    "    return tuple(map(ord, hexcode[1:].decode('hex')))\n",
    "\n",
    "\n",
    "def str2bin(message):\n",
    "    binary = bin(int(binascii.hexlify(message), 16))\n",
    "    return binary[2:]\n",
    "\n",
    "\n",
    "def bin2str(binary):\n",
    "    message = binascii.unhexlify('%x' % (int('0b' + binary, 2)))\n",
    "    return message\n",
    "\n",
    "\n",
    "def encode(hexcode, digit):\n",
    "    if hexcode[-1] in ('0', '1', '2', '3', '4', '5'):\n",
    "        hexcode = hexcode[:-1] + digit\n",
    "        return hexcode\n",
    "    else:\n",
    "        return None\n",
    "\n",
    "\n",
    "def decode(hexcode):\n",
    "    if hexcode[-1] in ('0', '1'):\n",
    "        return hexcode[-1]\n",
    "    else:\n",
    "        return None\n",
    "#correct\n",
    "\n",
    "def hide(filename, message):\n",
    "    img = Image.open(filename)\n",
    "    binary = str2bin(message) + '1111111111111110'\n",
    "    if img.mode in ('RGBA'):\n",
    "        img = img.convert('RGBA')\n",
    "        datas = img.getdata()\n",
    "        newData = []\n",
    "        digit = 0\n",
    "        temp = ''\n",
    "        for item in datas:\n",
    "            if (digit < len(binary)):\n",
    "                newpix = encode(rgb2hex(item[0], item[1], item[2]), binary[digit])\n",
    "                if newpix == None:\n",
    "                    newData.append(item)\n",
    "                else:\n",
    "                    r, g, b = hex2rgb(newpix)\n",
    "                    newData.append((r, g, b, 255))\n",
    "                    digit += 1\n",
    "            else:\n",
    "                newData.append(item)\n",
    "        img.putdata(newData)\n",
    "        img.save(filename, \"PNG\")\n",
    "        return \"Completed!\"\n",
    "    return \"Incorrect Image Mode, Couldn't Hide\"\n",
    "#correct\n",
    "\n",
    "def retr(filename):\n",
    "    img = Image.open(filename)\n",
    "    binary = ''\n",
    "\n",
    "    if img.mode in ('RGBA'):\n",
    "        img = img.convert('RGBA')\n",
    "        datas = img.getdata()\n",
    "\n",
    "        for item in datas:\n",
    "            digit = decode(rgb2hex(item[0], item[1], item[2]))\n",
    "            if digit == None:\n",
    "                pass\n",
    "            else:\n",
    "                binary = binary + digit\n",
    "                if (binary[-16:] == '1111111111111110'):\n",
    "                    print(\"Success\")\n",
    "                    return bin2str(binary[:-16])\n",
    "\n",
    "        return bin2str(binary)\n",
    "    return \"Incorrect Image Mode, Couldn't Retrieve :(\"\n",
    "\n",
    "\n",
    "def Main():\n",
    "    parser = optparse.OptionParser('usage %prog ' + '-e/-d <target file>')\n",
    "    parser.add_option('-e', dest='hide', type='string',help='target picture path to hide text')\n",
    "    parser.add_option('-d', dest='retr', type='string',help='target picture path to retrieve text')\n",
    "\n",
    "    (options, args) = parser.parse_args()\n",
    "    if (options.hide != None):\n",
    "        text = raw_input(\"Enter a message to hide: \")\n",
    "        print(hide(options.hide, res=''.join(format(ord(i),'b') for i in text)))\n",
    "    elif (options.retr != None):\n",
    "        print(retr(options.retr))\n",
    "    else:\n",
    "        print(parser.usage)\n",
    "        exit(0)\n",
    "\n",
    "\n",
    "if __name__ == '__main__':\n",
    "    Main()"
   ]
  },
  {
   "cell_type": "code",
   "execution_count": 13,
   "metadata": {},
   "outputs": [
    {
     "data": {
      "text/plain": [
       "b'Hello World'"
      ]
     },
     "execution_count": 13,
     "metadata": {},
     "output_type": "execute_result"
    }
   ],
   "source": [
    "'Hello World'.encode()"
   ]
  },
  {
   "cell_type": "code",
   "execution_count": 1,
   "metadata": {},
   "outputs": [],
   "source": [
    "def str2bin(message):\n",
    "    binary = bin(int(binascii.hexlify(message), 16))\n",
    "    return binary[2:]"
   ]
  },
  {
   "cell_type": "code",
   "execution_count": 4,
   "metadata": {},
   "outputs": [
    {
     "ename": "NameError",
     "evalue": "name 'binascii' is not defined",
     "output_type": "error",
     "traceback": [
      "\u001b[1;31m---------------------------------------------------------------------------\u001b[0m",
      "\u001b[1;31mNameError\u001b[0m                                 Traceback (most recent call last)",
      "\u001b[1;32m<ipython-input-4-5f8d3f223950>\u001b[0m in \u001b[0;36m<module>\u001b[1;34m\u001b[0m\n\u001b[1;32m----> 1\u001b[1;33m \u001b[0mstr2bin\u001b[0m\u001b[1;33m(\u001b[0m\u001b[1;36m0\u001b[0m\u001b[1;33m)\u001b[0m\u001b[1;33m\u001b[0m\u001b[1;33m\u001b[0m\u001b[0m\n\u001b[0m",
      "\u001b[1;32m<ipython-input-1-9211f4cd6eb3>\u001b[0m in \u001b[0;36mstr2bin\u001b[1;34m(message)\u001b[0m\n\u001b[0;32m      1\u001b[0m \u001b[1;32mdef\u001b[0m \u001b[0mstr2bin\u001b[0m\u001b[1;33m(\u001b[0m\u001b[0mmessage\u001b[0m\u001b[1;33m)\u001b[0m\u001b[1;33m:\u001b[0m\u001b[1;33m\u001b[0m\u001b[1;33m\u001b[0m\u001b[0m\n\u001b[1;32m----> 2\u001b[1;33m     \u001b[0mbinary\u001b[0m \u001b[1;33m=\u001b[0m \u001b[0mbin\u001b[0m\u001b[1;33m(\u001b[0m\u001b[0mint\u001b[0m\u001b[1;33m(\u001b[0m\u001b[0mbinascii\u001b[0m\u001b[1;33m.\u001b[0m\u001b[0mhexlify\u001b[0m\u001b[1;33m(\u001b[0m\u001b[0mmessage\u001b[0m\u001b[1;33m)\u001b[0m\u001b[1;33m,\u001b[0m \u001b[1;36m16\u001b[0m\u001b[1;33m)\u001b[0m\u001b[1;33m)\u001b[0m\u001b[1;33m\u001b[0m\u001b[1;33m\u001b[0m\u001b[0m\n\u001b[0m\u001b[0;32m      3\u001b[0m     \u001b[1;32mreturn\u001b[0m \u001b[0mbinary\u001b[0m\u001b[1;33m[\u001b[0m\u001b[1;36m2\u001b[0m\u001b[1;33m:\u001b[0m\u001b[1;33m]\u001b[0m\u001b[1;33m\u001b[0m\u001b[1;33m\u001b[0m\u001b[0m\n",
      "\u001b[1;31mNameError\u001b[0m: name 'binascii' is not defined"
     ]
    }
   ],
   "source": [
    "str2bin(0)"
   ]
  },
  {
   "cell_type": "code",
   "execution_count": 11,
   "metadata": {},
   "outputs": [
    {
     "data": {
      "text/plain": [
       "['0b1100001', '0b1100010', '0b1100011']"
      ]
     },
     "execution_count": 11,
     "metadata": {},
     "output_type": "execute_result"
    }
   ],
   "source": [
    "    a_string='abc'\n",
    "    a_byte_array= bytearray(a_string,\"utf8\")\n",
    "    byte_list=[]\n",
    "    for byte in a_byte_array:\n",
    "        binary_rep = bin(byte)\n",
    "        byte_list.append(binary_rep)\n",
    "    byte_list\n"
   ]
  },
  {
   "cell_type": "code",
   "execution_count": 12,
   "metadata": {},
   "outputs": [],
   "source": [
    "res=''.join(format(ord(i),'b') for i in \"abc\")"
   ]
  },
  {
   "cell_type": "code",
   "execution_count": 13,
   "metadata": {},
   "outputs": [
    {
     "data": {
      "text/plain": [
       "'110000111000101100011'"
      ]
     },
     "execution_count": 13,
     "metadata": {},
     "output_type": "execute_result"
    }
   ],
   "source": [
    "res"
   ]
  },
  {
   "cell_type": "code",
   "execution_count": null,
   "metadata": {},
   "outputs": [],
   "source": []
  }
 ],
 "metadata": {
  "kernelspec": {
   "display_name": "Python 3",
   "language": "python",
   "name": "python3"
  },
  "language_info": {
   "codemirror_mode": {
    "name": "ipython",
    "version": 3
   },
   "file_extension": ".py",
   "mimetype": "text/x-python",
   "name": "python",
   "nbconvert_exporter": "python",
   "pygments_lexer": "ipython3",
   "version": "3.8.0"
  }
 },
 "nbformat": 4,
 "nbformat_minor": 4
}
